{
 "cells": [
  {
   "cell_type": "markdown",
   "id": "b1f4577c",
   "metadata": {},
   "source": [
    "# Linear Regression: Concepts and Implementation"
   ]
  },
  {
   "cell_type": "markdown",
   "id": "6e0939fb",
   "metadata": {},
   "source": [
    "Collaborative Efforts in Simple Linear Regression modeling between: \n",
    "+ Farahsat Jabin \n",
    "+ Chibili Mugala\n"
   ]
  },
  {
   "cell_type": "code",
   "execution_count": 1,
   "id": "5deb4919",
   "metadata": {},
   "outputs": [],
   "source": [
    "# Update notebook\n",
    "# *Uncomment this part* pip install notebook"
   ]
  },
  {
   "cell_type": "code",
   "execution_count": null,
   "id": "51aa0b13",
   "metadata": {},
   "outputs": [],
   "source": []
  }
 ],
 "metadata": {
  "kernelspec": {
   "display_name": "Python 3 (ipykernel)",
   "language": "python",
   "name": "python3"
  },
  "language_info": {
   "codemirror_mode": {
    "name": "ipython",
    "version": 3
   },
   "file_extension": ".py",
   "mimetype": "text/x-python",
   "name": "python",
   "nbconvert_exporter": "python",
   "pygments_lexer": "ipython3",
   "version": "3.8.17"
  }
 },
 "nbformat": 4,
 "nbformat_minor": 5
}
